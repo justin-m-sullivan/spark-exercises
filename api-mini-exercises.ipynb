{
 "cells": [
  {
   "cell_type": "markdown",
   "metadata": {},
   "source": [
    "# Spark API Mini Exercises"
   ]
  },
  {
   "cell_type": "code",
   "execution_count": 26,
   "metadata": {},
   "outputs": [],
   "source": [
    "import pyspark\n",
    "\n",
    "spark = pyspark.sql.SparkSession.builder.getOrCreate()\n",
    "\n",
    "import pandas as pd\n",
    "import numpy as np\n",
    "\n",
    "from pyspark.sql.functions import sum, mean, concat, lit, regexp_extract, regexp_replace, when\n"
   ]
  },
  {
   "cell_type": "markdown",
   "metadata": {},
   "source": [
    "## 1. Spark Dataframe Basics"
   ]
  },
  {
   "cell_type": "code",
   "execution_count": 4,
   "metadata": {},
   "outputs": [],
   "source": [
    "pandas_dataframe = pd.DataFrame({\n",
    "    \"n\": np.random.randn(20),\n",
    "    \"group\": np.random.choice(list(\"xyz\"), 20),\n",
    "    \"abool\": np.random.choice([True, False], 20),\n",
    "})"
   ]
  },
  {
   "cell_type": "code",
   "execution_count": 5,
   "metadata": {},
   "outputs": [
    {
     "data": {
      "text/plain": [
       "DataFrame[n: double, group: string, abool: boolean]"
      ]
     },
     "execution_count": 5,
     "metadata": {},
     "output_type": "execute_result"
    }
   ],
   "source": [
    "#ii. Convert the pandas dataframe to a spark dataframe. \n",
    "#From this point forward, do all of your work with the spark dataframe, not the pandas dataframe.\n",
    "df = spark.createDataFrame(pandas_dataframe)\n",
    "df"
   ]
  },
  {
   "cell_type": "code",
   "execution_count": 6,
   "metadata": {},
   "outputs": [
    {
     "name": "stdout",
     "output_type": "stream",
     "text": [
      "+-------------------+-----+-----+\n",
      "|                  n|group|abool|\n",
      "+-------------------+-----+-----+\n",
      "|  1.345815683152521|    y|false|\n",
      "|-1.0452821799941256|    x|false|\n",
      "| 0.9737660452795452|    x|false|\n",
      "+-------------------+-----+-----+\n",
      "only showing top 3 rows\n",
      "\n"
     ]
    }
   ],
   "source": [
    "#iii. Show the first 3 rows of the dataframe.\n",
    "df.show(3)"
   ]
  },
  {
   "cell_type": "code",
   "execution_count": 7,
   "metadata": {},
   "outputs": [
    {
     "name": "stdout",
     "output_type": "stream",
     "text": [
      "+-------------------+-----+-----+\n",
      "|                  n|group|abool|\n",
      "+-------------------+-----+-----+\n",
      "|  1.345815683152521|    y|false|\n",
      "|-1.0452821799941256|    x|false|\n",
      "| 0.9737660452795452|    x|false|\n",
      "| -0.867856173967037|    z| true|\n",
      "|-0.5346956316913865|    x| true|\n",
      "| 0.5058042271556487|    z|false|\n",
      "| 0.8595277934341654|    x| true|\n",
      "+-------------------+-----+-----+\n",
      "only showing top 7 rows\n",
      "\n"
     ]
    }
   ],
   "source": [
    "#iv. Show the first 7 rows of the dataframe.\n",
    "df.show(7)"
   ]
  },
  {
   "cell_type": "code",
   "execution_count": 9,
   "metadata": {},
   "outputs": [
    {
     "name": "stdout",
     "output_type": "stream",
     "text": [
      "+-------+-------------------+-----+\n",
      "|summary|                  n|group|\n",
      "+-------+-------------------+-----+\n",
      "|  count|                 20|   20|\n",
      "|   mean| 0.3743549326714791| null|\n",
      "| stddev| 0.8972092768502807| null|\n",
      "|    min|-1.0452821799941256|    x|\n",
      "|    max|  1.989506080109543|    z|\n",
      "+-------+-------------------+-----+\n",
      "\n"
     ]
    }
   ],
   "source": [
    "#v. View a summary of the data using .describe.\n",
    "df.describe().show()"
   ]
  },
  {
   "cell_type": "code",
   "execution_count": 10,
   "metadata": {},
   "outputs": [
    {
     "name": "stdout",
     "output_type": "stream",
     "text": [
      "+-------------------+-----+\n",
      "|                  n|abool|\n",
      "+-------------------+-----+\n",
      "|  1.345815683152521|false|\n",
      "|-1.0452821799941256|false|\n",
      "| 0.9737660452795452|false|\n",
      "| -0.867856173967037| true|\n",
      "|-0.5346956316913865| true|\n",
      "+-------------------+-----+\n",
      "only showing top 5 rows\n",
      "\n"
     ]
    }
   ],
   "source": [
    "#vi. Use .select to create a new dataframe with just the n and abool columns. \n",
    "#View the first 5 rows of this dataframe.\n",
    "df.select('n', 'abool').show(5)"
   ]
  },
  {
   "cell_type": "code",
   "execution_count": 11,
   "metadata": {},
   "outputs": [
    {
     "name": "stdout",
     "output_type": "stream",
     "text": [
      "+-----+-----+\n",
      "|group|abool|\n",
      "+-----+-----+\n",
      "|    y|false|\n",
      "|    x|false|\n",
      "|    x|false|\n",
      "|    z| true|\n",
      "|    x| true|\n",
      "+-----+-----+\n",
      "only showing top 5 rows\n",
      "\n"
     ]
    }
   ],
   "source": [
    "#vii. Use .select to create a new dataframe with just the group and abool columns. \n",
    "#View the first 5 rows of this dataframe.\n",
    "df.select('group', 'abool').show(5)"
   ]
  },
  {
   "cell_type": "code",
   "execution_count": 14,
   "metadata": {},
   "outputs": [
    {
     "name": "stdout",
     "output_type": "stream",
     "text": [
      "+-----+---------------+\n",
      "|group|a_boolean_value|\n",
      "+-----+---------------+\n",
      "|    y|          false|\n",
      "|    x|          false|\n",
      "|    x|          false|\n",
      "+-----+---------------+\n",
      "only showing top 3 rows\n",
      "\n"
     ]
    }
   ],
   "source": [
    "#viii. Use .select to create a new dataframe with the group column and \n",
    "# the abool column renamed to a_boolean_value. Show the first 3 rows of this dataframe.\n",
    "df.select(df.group, df.abool.alias('a_boolean_value')).show(3)"
   ]
  },
  {
   "cell_type": "code",
   "execution_count": 15,
   "metadata": {},
   "outputs": [
    {
     "name": "stdout",
     "output_type": "stream",
     "text": [
      "+-----+-------------------+\n",
      "|group|    a_numeric_value|\n",
      "+-----+-------------------+\n",
      "|    y|  1.345815683152521|\n",
      "|    x|-1.0452821799941256|\n",
      "|    x| 0.9737660452795452|\n",
      "|    z| -0.867856173967037|\n",
      "|    x|-0.5346956316913865|\n",
      "|    z| 0.5058042271556487|\n",
      "+-----+-------------------+\n",
      "only showing top 6 rows\n",
      "\n"
     ]
    }
   ],
   "source": [
    "#ix. Use .select to create a new dataframe with the group column and the n column renamed to a_numeric_value. \n",
    "#Show the first 6 rows of this dataframe.\n",
    "df.select(df.group, df.n.alias(\"a_numeric_value\")).show(6)"
   ]
  },
  {
   "cell_type": "markdown",
   "metadata": {},
   "source": [
    "## 2. Column Manipulation"
   ]
  },
  {
   "cell_type": "code",
   "execution_count": 38,
   "metadata": {},
   "outputs": [
    {
     "name": "stdout",
     "output_type": "stream",
     "text": [
      "+------------------+\n",
      "|               n+4|\n",
      "+------------------+\n",
      "| 5.345815683152521|\n",
      "|2.9547178200058744|\n",
      "| 4.973766045279545|\n",
      "| 3.132143826032963|\n",
      "|3.4653043683086135|\n",
      "| 4.505804227155648|\n",
      "| 4.859527793434165|\n",
      "|3.2621761628784087|\n",
      "| 5.190579458205743|\n",
      "| 4.804028794242071|\n",
      "| 5.261199900778375|\n",
      "|4.0168779323326165|\n",
      "| 5.229310846388251|\n",
      "|3.7614279258236563|\n",
      "| 3.589302243524058|\n",
      "| 5.407331809584625|\n",
      "|5.9895060801095426|\n",
      "| 3.615525094232796|\n",
      "| 4.362773297125474|\n",
      "|3.7599793448346346|\n",
      "+------------------+\n",
      "\n"
     ]
    }
   ],
   "source": [
    "#ii. Use .select to add 4 to the n column. Show the results.\n",
    "df.select((df.n.cast('double')+4).alias('n+4')).show()"
   ]
  },
  {
   "cell_type": "code",
   "execution_count": 40,
   "metadata": {},
   "outputs": [
    {
     "name": "stdout",
     "output_type": "stream",
     "text": [
      "+-------------------+\n",
      "|                n-5|\n",
      "+-------------------+\n",
      "| -3.654184316847479|\n",
      "| -6.045282179994126|\n",
      "| -4.026233954720455|\n",
      "| -5.867856173967037|\n",
      "|-5.5346956316913865|\n",
      "| -4.494195772844352|\n",
      "| -4.140472206565835|\n",
      "| -5.737823837121591|\n",
      "|-3.8094205417942573|\n",
      "| -4.195971205757929|\n",
      "| -3.738800099221625|\n",
      "|-4.9831220676673835|\n",
      "| -3.770689153611749|\n",
      "| -5.238572074176344|\n",
      "| -5.410697756475942|\n",
      "|-3.5926681904153748|\n",
      "| -3.010493919890457|\n",
      "| -5.384474905767204|\n",
      "| -4.637226702874526|\n",
      "| -5.240020655165365|\n",
      "+-------------------+\n",
      "\n"
     ]
    }
   ],
   "source": [
    "#iii.Subtract 5 from the n column and view the results.\n",
    "df.select((df.n-5).alias('n-5')).show()"
   ]
  },
  {
   "cell_type": "code",
   "execution_count": 41,
   "metadata": {},
   "outputs": [
    {
     "name": "stdout",
     "output_type": "stream",
     "text": [
      "+--------------------+-------------------+\n",
      "|                   n|                n*2|\n",
      "+--------------------+-------------------+\n",
      "|   1.345815683152521|  2.691631366305042|\n",
      "| -1.0452821799941256|-2.0905643599882513|\n",
      "|  0.9737660452795452| 1.9475320905590905|\n",
      "|  -0.867856173967037| -1.735712347934074|\n",
      "| -0.5346956316913865| -1.069391263382773|\n",
      "|  0.5058042271556487| 1.0116084543112973|\n",
      "|  0.8595277934341654| 1.7190555868683308|\n",
      "| -0.7378238371215912|-1.4756476742431823|\n",
      "|  1.1905794582057427| 2.3811589164114855|\n",
      "|  0.8040287942420706| 1.6080575884841413|\n",
      "|   1.261199900778375|   2.52239980155675|\n",
      "|0.016877932332616804|0.03375586466523361|\n",
      "|  1.2293108463882507| 2.4586216927765014|\n",
      "| -0.2385720741763439|-0.4771441483526878|\n",
      "|-0.41069775647594214|-0.8213955129518843|\n",
      "|   1.407331809584625|   2.81466361916925|\n",
      "|   1.989506080109543|  3.979012160219086|\n",
      "| -0.3844749057672039|-0.7689498115344078|\n",
      "| 0.36277329712547385| 0.7255465942509477|\n",
      "| -0.2400206551653653|-0.4800413103307306|\n",
      "+--------------------+-------------------+\n",
      "\n"
     ]
    }
   ],
   "source": [
    "#iv. Multiply the n column by 2. View the results along with the original numbers.\n",
    "df.select(df.n, (df.n*2).alias('n*2')).show()"
   ]
  },
  {
   "cell_type": "code",
   "execution_count": 64,
   "metadata": {},
   "outputs": [
    {
     "name": "stdout",
     "output_type": "stream",
     "text": [
      "+-------------------+-----+-----+-------------------+\n",
      "|                  n|group|abool|                 n2|\n",
      "+-------------------+-----+-----+-------------------+\n",
      "|  1.345815683152521|    y|false| -1.345815683152521|\n",
      "|-1.0452821799941256|    x|false| 1.0452821799941256|\n",
      "| 0.9737660452795452|    x|false|-0.9737660452795452|\n",
      "| -0.867856173967037|    z| true|  0.867856173967037|\n",
      "+-------------------+-----+-----+-------------------+\n",
      "only showing top 4 rows\n",
      "\n"
     ]
    }
   ],
   "source": [
    "#v. Add a new column named n2 that is the n value multiplied by -1. \n",
    "#Show the first 4 rows of your dataframe. \n",
    "#You should see the original n value as well as n2.\n",
    "n2 = (df.n*-1).alias('n2')\n",
    "df = df.select('*', n2)\n",
    "df.show(4)"
   ]
  },
  {
   "cell_type": "code",
   "execution_count": 66,
   "metadata": {},
   "outputs": [
    {
     "name": "stdout",
     "output_type": "stream",
     "text": [
      "+-------------------+-----+-----+-------------------+------------------+\n",
      "|                  n|group|abool|                 n2|                n3|\n",
      "+-------------------+-----+-----+-------------------+------------------+\n",
      "|  1.345815683152521|    y|false| -1.345815683152521|1.8112198530192867|\n",
      "|-1.0452821799941256|    x|false| 1.0452821799941256|1.0926148358132717|\n",
      "| 0.9737660452795452|    x|false|-0.9737660452795452|0.9482203109393653|\n",
      "| -0.867856173967037|    z| true|  0.867856173967037|0.7531743386927039|\n",
      "|-0.5346956316913865|    x| true| 0.5346956316913865|0.2858994185498508|\n",
      "+-------------------+-----+-----+-------------------+------------------+\n",
      "only showing top 5 rows\n",
      "\n"
     ]
    }
   ],
   "source": [
    "#vi. Add a new column named n3 that is the n value squared. \n",
    "#Show the first 5 rows of your dataframe. You should see both n, n2, and n3.\n",
    "n3 = (df.n**2).alias('n3')\n",
    "df = df.select('*', n3)\n",
    "df.show(5)"
   ]
  },
  {
   "cell_type": "code",
   "execution_count": 67,
   "metadata": {},
   "outputs": [
    {
     "data": {
      "text/plain": [
       "Column<'(group + abool)'>"
      ]
     },
     "execution_count": 67,
     "metadata": {},
     "output_type": "execute_result"
    }
   ],
   "source": [
    "#vii. What happens when you run the code below?\n",
    "df.group + df.abool"
   ]
  },
  {
   "cell_type": "code",
   "execution_count": 68,
   "metadata": {},
   "outputs": [
    {
     "name": "stdout",
     "output_type": "stream",
     "text": [
      "+--------------------+-----+-----+--------------------+--------------------+\n",
      "|                   n|group|abool|                  n2|                  n3|\n",
      "+--------------------+-----+-----+--------------------+--------------------+\n",
      "|   1.345815683152521|    y|false|  -1.345815683152521|  1.8112198530192867|\n",
      "| -1.0452821799941256|    x|false|  1.0452821799941256|  1.0926148358132717|\n",
      "|  0.9737660452795452|    x|false| -0.9737660452795452|  0.9482203109393653|\n",
      "|  -0.867856173967037|    z| true|   0.867856173967037|  0.7531743386927039|\n",
      "| -0.5346956316913865|    x| true|  0.5346956316913865|  0.2858994185498508|\n",
      "|  0.5058042271556487|    z|false| -0.5058042271556487| 0.25583791620852303|\n",
      "|  0.8595277934341654|    x| true| -0.8595277934341654|  0.7387880276858053|\n",
      "| -0.7378238371215912|    x| true|  0.7378238371215912|  0.5443840146248283|\n",
      "|  1.1905794582057427|    x| true| -1.1905794582057427|    1.41747944630148|\n",
      "|  0.8040287942420706|    z|false| -0.8040287942420706|  0.6464623019703579|\n",
      "|   1.261199900778375|    z| true|  -1.261199900778375|  1.5906251897233827|\n",
      "|0.016877932332616804|    y|false|-0.01687793233261...|2.848645998243917E-4|\n",
      "|  1.2293108463882507|    y| true| -1.2293108463882507|  1.5112051570477973|\n",
      "| -0.2385720741763439|    x|false|  0.2385720741763439| 0.05691663457680294|\n",
      "|-0.41069775647594214|    z|false| 0.41069775647594214| 0.16867264717437228|\n",
      "|   1.407331809584625|    z| true|  -1.407331809584625|  1.9805828222687352|\n",
      "|   1.989506080109543|    y|false|  -1.989506080109543|   3.958134442792839|\n",
      "| -0.3844749057672039|    y|false|  0.3844749057672039|  0.1478209531647003|\n",
      "| 0.36277329712547385|    x| true|-0.36277329712547385| 0.13160446510728732|\n",
      "| -0.2400206551653653|    x| true|  0.2400206551653653|  0.0576099149060112|\n",
      "+--------------------+-----+-----+--------------------+--------------------+\n",
      "\n"
     ]
    }
   ],
   "source": [
    "df.show()"
   ]
  },
  {
   "cell_type": "code",
   "execution_count": 75,
   "metadata": {},
   "outputs": [],
   "source": [
    "#viii. What happens when you run the code below? \n",
    "#What is the difference between this and the previous code sample?\n",
    "\n",
    "#df.select(df.group + df.abool)"
   ]
  },
  {
   "cell_type": "code",
   "execution_count": 70,
   "metadata": {},
   "outputs": [
    {
     "data": {
      "text/plain": [
       "DataFrame[(n + group): double]"
      ]
     },
     "execution_count": 70,
     "metadata": {},
     "output_type": "execute_result"
    }
   ],
   "source": [
    "#ix. Try adding various other columns together. \n",
    "#What are the results of combining the different data types?\n",
    "df.select(df.n + df.group)"
   ]
  },
  {
   "cell_type": "code",
   "execution_count": 71,
   "metadata": {},
   "outputs": [
    {
     "data": {
      "text/plain": [
       "Column<'(n + abool)'>"
      ]
     },
     "execution_count": 71,
     "metadata": {},
     "output_type": "execute_result"
    }
   ],
   "source": [
    "df.n + df.abool"
   ]
  },
  {
   "cell_type": "code",
   "execution_count": 72,
   "metadata": {},
   "outputs": [
    {
     "data": {
      "text/plain": [
       "Column<'(n3 + n3)'>"
      ]
     },
     "execution_count": 72,
     "metadata": {},
     "output_type": "execute_result"
    }
   ],
   "source": [
    "df.n2 + df.n3"
   ]
  },
  {
   "cell_type": "code",
   "execution_count": 74,
   "metadata": {},
   "outputs": [
    {
     "name": "stdout",
     "output_type": "stream",
     "text": [
      "+--------------------+\n",
      "|           (n2 + n3)|\n",
      "+--------------------+\n",
      "|  0.4654041698667657|\n",
      "|  2.1378970158073973|\n",
      "|-0.02554573434017...|\n",
      "|  1.6210305126597409|\n",
      "|  0.8205950502412372|\n",
      "|-0.24996631094712563|\n",
      "| -0.1207397657483601|\n",
      "|  1.2822078517464195|\n",
      "|  0.2268999880957372|\n",
      "| -0.1575664922717127|\n",
      "|  0.3294252889450078|\n",
      "|-0.01659306773279...|\n",
      "|  0.2818943106595466|\n",
      "| 0.29548870875314687|\n",
      "|  0.5793704036503144|\n",
      "|  0.5732510126841102|\n",
      "|   1.968628362683296|\n",
      "|  0.5322958589319042|\n",
      "|-0.23116883201818653|\n",
      "|  0.2976305700713765|\n",
      "+--------------------+\n",
      "\n"
     ]
    }
   ],
   "source": [
    "df.select(df.n2 + df.n3).show()"
   ]
  },
  {
   "cell_type": "markdown",
   "metadata": {},
   "source": [
    "## 3. Type casting"
   ]
  },
  {
   "cell_type": "code",
   "execution_count": 76,
   "metadata": {},
   "outputs": [
    {
     "data": {
      "text/plain": [
       "DataFrame[n: double, group: string, abool: boolean]"
      ]
     },
     "execution_count": 76,
     "metadata": {},
     "output_type": "execute_result"
    }
   ],
   "source": [
    "#i. Use the starter code above to re-create a spark dataframe.\n",
    "df = spark.createDataFrame(pandas_dataframe)\n",
    "df"
   ]
  },
  {
   "cell_type": "code",
   "execution_count": 77,
   "metadata": {},
   "outputs": [
    {
     "name": "stdout",
     "output_type": "stream",
     "text": [
      "root\n",
      " |-- n: double (nullable = true)\n",
      " |-- group: string (nullable = true)\n",
      " |-- abool: boolean (nullable = true)\n",
      "\n"
     ]
    }
   ],
   "source": [
    "#ii. Use .printSchema to view the datatypes in your dataframe.\n",
    "df.printSchema()"
   ]
  },
  {
   "cell_type": "code",
   "execution_count": 80,
   "metadata": {},
   "outputs": [
    {
     "data": {
      "text/plain": [
       "[('n', 'double'), ('group', 'string'), ('abool', 'boolean')]"
      ]
     },
     "execution_count": 80,
     "metadata": {},
     "output_type": "execute_result"
    }
   ],
   "source": [
    "#iii. Use .dtypes to view the datatypes in your dataframe.\n",
    "df.dtypes"
   ]
  },
  {
   "cell_type": "code",
   "execution_count": 81,
   "metadata": {},
   "outputs": [
    {
     "data": {
      "text/plain": [
       "Column<'CAST(abool AS INT)'>"
      ]
     },
     "execution_count": 81,
     "metadata": {},
     "output_type": "execute_result"
    }
   ],
   "source": [
    "#iv. What is the difference between the two code samples below?\n",
    "df.abool.cast('int')"
   ]
  },
  {
   "cell_type": "code",
   "execution_count": 93,
   "metadata": {},
   "outputs": [
    {
     "name": "stdout",
     "output_type": "stream",
     "text": [
      "+-----+\n",
      "|abool|\n",
      "+-----+\n",
      "|    0|\n",
      "|    0|\n",
      "|    0|\n",
      "|    1|\n",
      "+-----+\n",
      "only showing top 4 rows\n",
      "\n"
     ]
    }
   ],
   "source": [
    "df.select(df.abool.cast('int')).show(4)"
   ]
  },
  {
   "cell_type": "markdown",
   "metadata": {},
   "source": [
    "**The first example creates a boolean column but does not fill with values. The second fills the boolean values with their respective numeric values**"
   ]
  },
  {
   "cell_type": "code",
   "execution_count": 91,
   "metadata": {},
   "outputs": [
    {
     "name": "stdout",
     "output_type": "stream",
     "text": [
      "+-----+\n",
      "|abool|\n",
      "+-----+\n",
      "|    0|\n",
      "|    0|\n",
      "|    0|\n",
      "|    1|\n",
      "+-----+\n",
      "only showing top 4 rows\n",
      "\n"
     ]
    }
   ],
   "source": [
    "#v. Use .select and .cast to convert the abool column to an integer type. View the results.\n",
    "df.select(df.abool.cast('int')).show(4)"
   ]
  },
  {
   "cell_type": "code",
   "execution_count": 88,
   "metadata": {},
   "outputs": [
    {
     "name": "stdout",
     "output_type": "stream",
     "text": [
      "+-----+\n",
      "|group|\n",
      "+-----+\n",
      "| null|\n",
      "| null|\n",
      "+-----+\n",
      "only showing top 2 rows\n",
      "\n"
     ]
    }
   ],
   "source": [
    "#vi. Convert the group column to a integer data type and view the results. What happens?\n",
    "df.select(df.group.cast('int')).show(2)"
   ]
  },
  {
   "cell_type": "code",
   "execution_count": 87,
   "metadata": {},
   "outputs": [
    {
     "name": "stdout",
     "output_type": "stream",
     "text": [
      "+---+\n",
      "|  n|\n",
      "+---+\n",
      "|  1|\n",
      "| -1|\n",
      "+---+\n",
      "only showing top 2 rows\n",
      "\n"
     ]
    }
   ],
   "source": [
    "#vii. Convert the n column to a integer data type and view the results. What happens?\n",
    "df.select(df.n.cast('int')).show(2)"
   ]
  },
  {
   "cell_type": "code",
   "execution_count": 96,
   "metadata": {},
   "outputs": [
    {
     "name": "stdout",
     "output_type": "stream",
     "text": [
      "+-------------------+\n",
      "|                  n|\n",
      "+-------------------+\n",
      "|  1.345815683152521|\n",
      "|-1.0452821799941256|\n",
      "| 0.9737660452795452|\n",
      "+-------------------+\n",
      "only showing top 3 rows\n",
      "\n"
     ]
    }
   ],
   "source": [
    "#viii. Convert the abool column to a string data type and view the results. What happens?\n",
    "df.select(df.n.cast('string')).show(3)"
   ]
  },
  {
   "cell_type": "markdown",
   "metadata": {},
   "source": [
    "## 4. Built-in Functions"
   ]
  },
  {
   "cell_type": "code",
   "execution_count": 107,
   "metadata": {},
   "outputs": [],
   "source": [
    "#ii. Import the necessary functions from pyspark.sql.functions\n",
    "from pyspark.sql.functions import asc, desc, col\n"
   ]
  },
  {
   "cell_type": "code",
   "execution_count": 108,
   "metadata": {},
   "outputs": [
    {
     "name": "stdout",
     "output_type": "stream",
     "text": [
      "+-----------------+-----+-----+\n",
      "|                n|group|abool|\n",
      "+-----------------+-----+-----+\n",
      "|1.989506080109543|    y|false|\n",
      "+-----------------+-----+-----+\n",
      "only showing top 1 row\n",
      "\n"
     ]
    }
   ],
   "source": [
    "#iii. Find the highest n value.\n",
    "df.sort(col('n').desc()).show(1)"
   ]
  },
  {
   "cell_type": "code",
   "execution_count": 109,
   "metadata": {},
   "outputs": [
    {
     "name": "stdout",
     "output_type": "stream",
     "text": [
      "+-------------------+-----+-----+\n",
      "|                  n|group|abool|\n",
      "+-------------------+-----+-----+\n",
      "|-1.0452821799941256|    x|false|\n",
      "+-------------------+-----+-----+\n",
      "only showing top 1 row\n",
      "\n"
     ]
    }
   ],
   "source": [
    "#iv. Find the lowest n value.\n",
    "df.sort(col('n').asc()).show(1)"
   ]
  },
  {
   "cell_type": "code",
   "execution_count": 110,
   "metadata": {},
   "outputs": [
    {
     "name": "stdout",
     "output_type": "stream",
     "text": [
      "+------------------+\n",
      "|            avg(n)|\n",
      "+------------------+\n",
      "|0.3743549326714791|\n",
      "+------------------+\n",
      "\n"
     ]
    }
   ],
   "source": [
    "#v. Find the average n value.\n",
    "df.select(mean(col('n'))).show()"
   ]
  },
  {
   "cell_type": "code",
   "execution_count": null,
   "metadata": {},
   "outputs": [],
   "source": [
    "#vi. Use concat to change the group column to say, e.g. \"Group: x\" or \"Group: y\"\n",
    "df."
   ]
  },
  {
   "cell_type": "code",
   "execution_count": 111,
   "metadata": {},
   "outputs": [],
   "source": [
    "#vii. Use concat to combine the n and group columns to produce results that look like this: \n",
    "#\"x: -1.432\" or \"z: 2.352\""
   ]
  },
  {
   "cell_type": "markdown",
   "metadata": {},
   "source": [
    "## 5. When / Otherwise"
   ]
  },
  {
   "cell_type": "code",
   "execution_count": 112,
   "metadata": {},
   "outputs": [],
   "source": [
    "from pyspark.sql.functions import when"
   ]
  },
  {
   "cell_type": "code",
   "execution_count": 127,
   "metadata": {},
   "outputs": [
    {
     "name": "stdout",
     "output_type": "stream",
     "text": [
      "+-----+-----------+\n",
      "|abool|  bool_desc|\n",
      "+-----+-----------+\n",
      "|false|It is false|\n",
      "|false|It is false|\n",
      "|false|It is false|\n",
      "| true| It is true|\n",
      "| true| It is true|\n",
      "|false|It is false|\n",
      "| true| It is true|\n",
      "| true| It is true|\n",
      "| true| It is true|\n",
      "|false|It is false|\n",
      "| true| It is true|\n",
      "|false|It is false|\n",
      "| true| It is true|\n",
      "|false|It is false|\n",
      "|false|It is false|\n",
      "| true| It is true|\n",
      "|false|It is false|\n",
      "|false|It is false|\n",
      "| true| It is true|\n",
      "| true| It is true|\n",
      "+-----+-----------+\n",
      "\n"
     ]
    }
   ],
   "source": [
    "#ii.Use when and .otherwise to create a column that contains the text \"It is true\" when abool is true and \n",
    "#\"It is false\"\" when abool is false.\n",
    "df.select(\n",
    "    df.abool, when(df.abool == 'true', 'It is true').otherwise('It is false').alias('bool_desc')).show()\n"
   ]
  },
  {
   "cell_type": "code",
   "execution_count": 129,
   "metadata": {},
   "outputs": [
    {
     "name": "stdout",
     "output_type": "stream",
     "text": [
      "+--------------------+--------------------+\n",
      "|                   n|                  +n|\n",
      "+--------------------+--------------------+\n",
      "|   1.345815683152521|   1.345815683152521|\n",
      "| -1.0452821799941256|                 0.0|\n",
      "|  0.9737660452795452|  0.9737660452795452|\n",
      "|  -0.867856173967037|                 0.0|\n",
      "| -0.5346956316913865|                 0.0|\n",
      "|  0.5058042271556487|  0.5058042271556487|\n",
      "|  0.8595277934341654|  0.8595277934341654|\n",
      "| -0.7378238371215912|                 0.0|\n",
      "|  1.1905794582057427|  1.1905794582057427|\n",
      "|  0.8040287942420706|  0.8040287942420706|\n",
      "|   1.261199900778375|   1.261199900778375|\n",
      "|0.016877932332616804|0.016877932332616804|\n",
      "|  1.2293108463882507|  1.2293108463882507|\n",
      "| -0.2385720741763439|                 0.0|\n",
      "|-0.41069775647594214|                 0.0|\n",
      "|   1.407331809584625|   1.407331809584625|\n",
      "|   1.989506080109543|   1.989506080109543|\n",
      "| -0.3844749057672039|                 0.0|\n",
      "| 0.36277329712547385| 0.36277329712547385|\n",
      "| -0.2400206551653653|                 0.0|\n",
      "+--------------------+--------------------+\n",
      "\n"
     ]
    }
   ],
   "source": [
    "#iii. Create a column that contains 0 if n is less than 0, otherwise, the original n value.\n",
    "df.select(\n",
    "    df.n,\n",
    "    when(df.n < 0, 0)\n",
    "    .otherwise(df.n).alias('+n')).show()"
   ]
  },
  {
   "cell_type": "markdown",
   "metadata": {},
   "source": [
    "## 6. Filter / Where"
   ]
  },
  {
   "cell_type": "code",
   "execution_count": 130,
   "metadata": {},
   "outputs": [
    {
     "name": "stdout",
     "output_type": "stream",
     "text": [
      "+--------------------+-----+-----+\n",
      "|                   n|group|abool|\n",
      "+--------------------+-----+-----+\n",
      "|   1.345815683152521|    y|false|\n",
      "|0.016877932332616804|    y|false|\n",
      "|  1.2293108463882507|    y| true|\n",
      "|   1.989506080109543|    y|false|\n",
      "| -0.3844749057672039|    y|false|\n",
      "+--------------------+-----+-----+\n",
      "\n"
     ]
    }
   ],
   "source": [
    "#ii. Use .filter or .where to select just the rows where the group is y and view the results.\n",
    "df.filter(df.group == 'y').show(5)"
   ]
  },
  {
   "cell_type": "code",
   "execution_count": 138,
   "metadata": {},
   "outputs": [
    {
     "name": "stdout",
     "output_type": "stream",
     "text": [
      "+-------------------+-----+-----+\n",
      "|                  n|group|abool|\n",
      "+-------------------+-----+-----+\n",
      "|  1.345815683152521|    y|false|\n",
      "|-1.0452821799941256|    x|false|\n",
      "| 0.9737660452795452|    x|false|\n",
      "| 0.5058042271556487|    z|false|\n",
      "| 0.8040287942420706|    z|false|\n",
      "+-------------------+-----+-----+\n",
      "only showing top 5 rows\n",
      "\n"
     ]
    }
   ],
   "source": [
    "#iii. Select just the columns where the abool column is false and view the results.\n",
    "df.filter(df.abool == 'false').show(5)"
   ]
  },
  {
   "cell_type": "code",
   "execution_count": 139,
   "metadata": {},
   "outputs": [
    {
     "name": "stdout",
     "output_type": "stream",
     "text": [
      "+-------------------+-----+-----+\n",
      "|                  n|group|abool|\n",
      "+-------------------+-----+-----+\n",
      "|  1.345815683152521|    y|false|\n",
      "|-1.0452821799941256|    x|false|\n",
      "| 0.9737660452795452|    x|false|\n",
      "| 0.5058042271556487|    z|false|\n",
      "| 0.8040287942420706|    z|false|\n",
      "+-------------------+-----+-----+\n",
      "only showing top 5 rows\n",
      "\n"
     ]
    }
   ],
   "source": [
    "#iv. Find the columns where the group column is not y.\n",
    "df.filter(df.abool != 'y').show(5)"
   ]
  },
  {
   "cell_type": "code",
   "execution_count": 140,
   "metadata": {},
   "outputs": [
    {
     "name": "stdout",
     "output_type": "stream",
     "text": [
      "+--------------------+-----+-----+\n",
      "|                   n|group|abool|\n",
      "+--------------------+-----+-----+\n",
      "|   1.345815683152521|    y|false|\n",
      "|  0.9737660452795452|    x|false|\n",
      "|  0.5058042271556487|    z|false|\n",
      "|  0.8595277934341654|    x| true|\n",
      "|  1.1905794582057427|    x| true|\n",
      "|  0.8040287942420706|    z|false|\n",
      "|   1.261199900778375|    z| true|\n",
      "|0.016877932332616804|    y|false|\n",
      "|  1.2293108463882507|    y| true|\n",
      "|   1.407331809584625|    z| true|\n",
      "|   1.989506080109543|    y|false|\n",
      "| 0.36277329712547385|    x| true|\n",
      "+--------------------+-----+-----+\n",
      "\n"
     ]
    }
   ],
   "source": [
    "#v. Find the columns where n is positive.\n",
    "df.filter(df.n > 0).show()"
   ]
  },
  {
   "cell_type": "code",
   "execution_count": 141,
   "metadata": {},
   "outputs": [
    {
     "name": "stdout",
     "output_type": "stream",
     "text": [
      "+------------------+-----+-----+\n",
      "|                 n|group|abool|\n",
      "+------------------+-----+-----+\n",
      "|-0.867856173967037|    z| true|\n",
      "| 1.261199900778375|    z| true|\n",
      "| 1.407331809584625|    z| true|\n",
      "+------------------+-----+-----+\n",
      "\n"
     ]
    }
   ],
   "source": [
    "#vi. Find the columns where abool is true and the group column is z.\n",
    "df.where(df.abool == 'true').where(df.group == 'z').show()"
   ]
  },
  {
   "cell_type": "code",
   "execution_count": 143,
   "metadata": {},
   "outputs": [
    {
     "name": "stdout",
     "output_type": "stream",
     "text": [
      "+--------------------+-----+-----+\n",
      "|                   n|group|abool|\n",
      "+--------------------+-----+-----+\n",
      "|  -0.867856173967037|    z| true|\n",
      "| -0.5346956316913865|    x| true|\n",
      "|  0.5058042271556487|    z|false|\n",
      "|  0.8595277934341654|    x| true|\n",
      "| -0.7378238371215912|    x| true|\n",
      "|  1.1905794582057427|    x| true|\n",
      "|  0.8040287942420706|    z|false|\n",
      "|   1.261199900778375|    z| true|\n",
      "|  1.2293108463882507|    y| true|\n",
      "|-0.41069775647594214|    z|false|\n",
      "|   1.407331809584625|    z| true|\n",
      "| 0.36277329712547385|    x| true|\n",
      "| -0.2400206551653653|    x| true|\n",
      "+--------------------+-----+-----+\n",
      "\n"
     ]
    }
   ],
   "source": [
    "#vii. Find the columns where abool is true or the group column is z.\n",
    "df.where((df.abool == 'true') | (df.group == 'z')).show()"
   ]
  },
  {
   "cell_type": "code",
   "execution_count": 144,
   "metadata": {},
   "outputs": [
    {
     "name": "stdout",
     "output_type": "stream",
     "text": [
      "+--------------------+-----+-----+\n",
      "|                   n|group|abool|\n",
      "+--------------------+-----+-----+\n",
      "| -1.0452821799941256|    x|false|\n",
      "|  0.9737660452795452|    x|false|\n",
      "|  0.5058042271556487|    z|false|\n",
      "|  0.8040287942420706|    z|false|\n",
      "|0.016877932332616804|    y|false|\n",
      "| -0.2385720741763439|    x|false|\n",
      "|-0.41069775647594214|    z|false|\n",
      "| -0.3844749057672039|    y|false|\n",
      "+--------------------+-----+-----+\n",
      "\n"
     ]
    }
   ],
   "source": [
    "#viii. Find the columns where abool is false and n is less than 1\n",
    "df.where(df.abool == 'false').where(df.n < 1).show()"
   ]
  },
  {
   "cell_type": "code",
   "execution_count": 145,
   "metadata": {},
   "outputs": [
    {
     "name": "stdout",
     "output_type": "stream",
     "text": [
      "+--------------------+-----+-----+\n",
      "|                   n|group|abool|\n",
      "+--------------------+-----+-----+\n",
      "|   1.345815683152521|    y|false|\n",
      "| -1.0452821799941256|    x|false|\n",
      "|  0.9737660452795452|    x|false|\n",
      "|  -0.867856173967037|    z| true|\n",
      "| -0.5346956316913865|    x| true|\n",
      "|  0.5058042271556487|    z|false|\n",
      "|  0.8595277934341654|    x| true|\n",
      "| -0.7378238371215912|    x| true|\n",
      "|  0.8040287942420706|    z|false|\n",
      "|0.016877932332616804|    y|false|\n",
      "| -0.2385720741763439|    x|false|\n",
      "|-0.41069775647594214|    z|false|\n",
      "|   1.989506080109543|    y|false|\n",
      "| -0.3844749057672039|    y|false|\n",
      "| 0.36277329712547385|    x| true|\n",
      "| -0.2400206551653653|    x| true|\n",
      "+--------------------+-----+-----+\n",
      "\n"
     ]
    }
   ],
   "source": [
    "#ix. Find the columns where abool is false or n is less than 1\n",
    "df.where((df.abool == 'false') | (df.n < 1)).show()"
   ]
  },
  {
   "cell_type": "markdown",
   "metadata": {},
   "source": [
    "## 7. Sorting"
   ]
  },
  {
   "cell_type": "code",
   "execution_count": 146,
   "metadata": {},
   "outputs": [],
   "source": [
    "#ii. Sort by the n value."
   ]
  },
  {
   "cell_type": "code",
   "execution_count": 147,
   "metadata": {},
   "outputs": [
    {
     "name": "stdout",
     "output_type": "stream",
     "text": [
      "+--------------------+-----+-----+\n",
      "|                   n|group|abool|\n",
      "+--------------------+-----+-----+\n",
      "|   1.989506080109543|    y|false|\n",
      "|   1.407331809584625|    z| true|\n",
      "|   1.345815683152521|    y|false|\n",
      "|   1.261199900778375|    z| true|\n",
      "|  1.2293108463882507|    y| true|\n",
      "|  1.1905794582057427|    x| true|\n",
      "|  0.9737660452795452|    x|false|\n",
      "|  0.8595277934341654|    x| true|\n",
      "|  0.8040287942420706|    z|false|\n",
      "|  0.5058042271556487|    z|false|\n",
      "| 0.36277329712547385|    x| true|\n",
      "|0.016877932332616804|    y|false|\n",
      "| -0.2385720741763439|    x|false|\n",
      "| -0.2400206551653653|    x| true|\n",
      "| -0.3844749057672039|    y|false|\n",
      "|-0.41069775647594214|    z|false|\n",
      "| -0.5346956316913865|    x| true|\n",
      "| -0.7378238371215912|    x| true|\n",
      "|  -0.867856173967037|    z| true|\n",
      "| -1.0452821799941256|    x|false|\n",
      "+--------------------+-----+-----+\n",
      "\n"
     ]
    }
   ],
   "source": [
    "df.sort(col('n').desc()).show()"
   ]
  },
  {
   "cell_type": "code",
   "execution_count": 148,
   "metadata": {},
   "outputs": [
    {
     "name": "stdout",
     "output_type": "stream",
     "text": [
      "+--------------------+-----+-----+\n",
      "|                   n|group|abool|\n",
      "+--------------------+-----+-----+\n",
      "| -1.0452821799941256|    x|false|\n",
      "|  0.9737660452795452|    x|false|\n",
      "| -0.5346956316913865|    x| true|\n",
      "| 0.36277329712547385|    x| true|\n",
      "| -0.2400206551653653|    x| true|\n",
      "|  0.8595277934341654|    x| true|\n",
      "| -0.7378238371215912|    x| true|\n",
      "| -0.2385720741763439|    x|false|\n",
      "|  1.1905794582057427|    x| true|\n",
      "|0.016877932332616804|    y|false|\n",
      "|  1.2293108463882507|    y| true|\n",
      "|   1.989506080109543|    y|false|\n",
      "| -0.3844749057672039|    y|false|\n",
      "|   1.345815683152521|    y|false|\n",
      "|-0.41069775647594214|    z|false|\n",
      "|  -0.867856173967037|    z| true|\n",
      "|   1.407331809584625|    z| true|\n",
      "|  0.8040287942420706|    z|false|\n",
      "|  0.5058042271556487|    z|false|\n",
      "|   1.261199900778375|    z| true|\n",
      "+--------------------+-----+-----+\n",
      "\n"
     ]
    }
   ],
   "source": [
    "#iii. Sort by the group value, both ascending and descending.\n",
    "df.sort(col('group').asc()).show()"
   ]
  },
  {
   "cell_type": "code",
   "execution_count": 149,
   "metadata": {},
   "outputs": [
    {
     "name": "stdout",
     "output_type": "stream",
     "text": [
      "+--------------------+-----+-----+\n",
      "|                   n|group|abool|\n",
      "+--------------------+-----+-----+\n",
      "|-0.41069775647594214|    z|false|\n",
      "|  0.8040287942420706|    z|false|\n",
      "|  0.5058042271556487|    z|false|\n",
      "|   1.261199900778375|    z| true|\n",
      "|  -0.867856173967037|    z| true|\n",
      "|   1.407331809584625|    z| true|\n",
      "|  1.2293108463882507|    y| true|\n",
      "|   1.345815683152521|    y|false|\n",
      "|   1.989506080109543|    y|false|\n",
      "| -0.3844749057672039|    y|false|\n",
      "|0.016877932332616804|    y|false|\n",
      "| -0.5346956316913865|    x| true|\n",
      "| 0.36277329712547385|    x| true|\n",
      "|  1.1905794582057427|    x| true|\n",
      "| -1.0452821799941256|    x|false|\n",
      "| -0.2400206551653653|    x| true|\n",
      "|  0.8595277934341654|    x| true|\n",
      "| -0.7378238371215912|    x| true|\n",
      "|  0.9737660452795452|    x|false|\n",
      "| -0.2385720741763439|    x|false|\n",
      "+--------------------+-----+-----+\n",
      "\n"
     ]
    }
   ],
   "source": [
    "df.sort(col('group').desc()).show()"
   ]
  },
  {
   "cell_type": "code",
   "execution_count": null,
   "metadata": {},
   "outputs": [],
   "source": [
    "iv. "
   ]
  }
 ],
 "metadata": {
  "kernelspec": {
   "display_name": "Python 3",
   "language": "python",
   "name": "python3"
  },
  "language_info": {
   "codemirror_mode": {
    "name": "ipython",
    "version": 3
   },
   "file_extension": ".py",
   "mimetype": "text/x-python",
   "name": "python",
   "nbconvert_exporter": "python",
   "pygments_lexer": "ipython3",
   "version": "3.8.5"
  }
 },
 "nbformat": 4,
 "nbformat_minor": 4
}
